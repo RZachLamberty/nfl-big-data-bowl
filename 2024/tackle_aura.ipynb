{
 "cells": [
  {
   "cell_type": "markdown",
   "source": [
    "# tackle aura\n",
    "\n",
    "1. identify all instances of a defender being within `N` yards of a ball carrier\n",
    "    1. need to know who the ball carrier is at frame x\n",
    "    1. need to collect *just* that ball carrier's location at frame x and join it back in to all other tracking data\n",
    "2. for all such instances, record the angle of attack and relative velocities\n",
    "3. for all such instances, identify whether or not that instance resulted in the identified player tackling the ball carrier\n",
    "\n",
    "from there we have a few options\n",
    "\n",
    "+ anchor on a given defender and quantify / qualify their ability relative to others of their position\n",
    "+ anchor on a given defender and analyze which angles of attack are most commonly successful against them\n",
    "+ anchor on a given ball carrier and analyze which angles of attack are most commonly successful against them"
   ],
   "metadata": {
    "collapsed": false
   },
   "id": "bcea109a3f872d68"
  },
  {
   "cell_type": "code",
   "outputs": [],
   "source": [
    "import numpy as np\n",
    "import pandas as pd\n",
    "import plotly.express as px\n",
    "\n",
    "import nfl.data"
   ],
   "metadata": {
    "collapsed": false
   },
   "id": "817656534f37edd",
   "execution_count": null
  },
  {
   "cell_type": "code",
   "outputs": [],
   "source": [
    "gp = ['gameId', 'playId']\n",
    "gpf = gp + ['frameId']\n",
    "gpfn = gpf + ['nflId']\n",
    "gpn = gp + ['nflId']\n",
    "\n",
    "idx = pd.IndexSlice"
   ],
   "metadata": {
    "collapsed": false
   },
   "id": "7000dcfe16802db8",
   "execution_count": null
  },
  {
   "cell_type": "code",
   "outputs": [],
   "source": [
    "t = (nfl.data.load_all_tracking(week_num_start=1, week_num_end=9)\n",
    "     .fillna(value={'nflId': -1}))\n",
    "# tw1 = (nfl.data.load_tracking_week(week_num=1)\n",
    "#        .fillna(value={'nflId': -1}))\n",
    "# # g1 = tw1[(tw1.gameId == 2022090800)]\n",
    "# tw1"
   ],
   "metadata": {
    "collapsed": false
   },
   "id": "df6a6643f8980113",
   "execution_count": null
  },
  {
   "cell_type": "code",
   "outputs": [],
   "source": [
    "def get_ball_carrier_position(df: pd.DataFrame) -> pd.DataFrame:\n",
    "    bc = nfl.data.get_ballcarrier()\n",
    "    return (df\n",
    "            .rename(columns={'nflId': 'ballCarrierId'})\n",
    "            .merge(bc, how='inner', on=gp + ['ballCarrierId'])\n",
    "            [gpf + ['ballCarrierId', 'club', 'x', 'y', 's', 'o', 'dir']]\n",
    "            .rename(columns={c: f\"{c}_ballcarrier\" for c in ['club', 'x', 'y', 's', 'o', 'dir']}))\n",
    "\n",
    "ball_pos = get_ball_carrier_position(t)\n",
    "# ball_pos"
   ],
   "metadata": {
    "collapsed": false
   },
   "id": "cec32d3ed16a290d",
   "execution_count": null
  },
  {
   "cell_type": "code",
   "outputs": [],
   "source": [
    "def add_distance_from_ballcarrier(df: pd.DataFrame) -> pd.DataFrame:\n",
    "    ball_pos = get_ball_carrier_position(df=df)\n",
    "    df_w_bp = df.merge(ball_pos, how='left', on=gpf)\n",
    "    df_w_bp.loc[:, 'd_bc'] = ((df_w_bp.x - df_w_bp.x_ballcarrier) ** 2\n",
    "                              + (df_w_bp.y - df_w_bp.y_ballcarrier) ** 2) ** .5\n",
    "    return df_w_bp\n",
    "\n",
    "t = add_distance_from_ballcarrier(t)\n",
    "# t"
   ],
   "metadata": {
    "collapsed": false
   },
   "id": "b1cfe13a268465ad",
   "execution_count": null
  },
  {
   "cell_type": "code",
   "outputs": [],
   "source": [
    "def add_is_close(df: pd.DataFrame) -> pd.DataFrame:\n",
    "    # \"close\" means: on the opposing team and within 2 yards\n",
    "    df.loc[:, 'is_ballcarrier'] = df.nflId == df.ballCarrierId\n",
    "    on_opposing_team = df.club != df.club_ballcarrier\n",
    "    not_football = df.nflId != -1\n",
    "    df.loc[:, 'is_close'] = (on_opposing_team\n",
    "                             & (~df.is_ballcarrier)\n",
    "                             & not_football\n",
    "                             & (df.d_bc <= 2))\n",
    "    return df\n",
    "\n",
    "t = add_is_close(t)\n",
    "# t"
   ],
   "metadata": {
    "collapsed": false
   },
   "id": "97b0c5ba3ed5c67a",
   "execution_count": null
  },
  {
   "cell_type": "code",
   "outputs": [],
   "source": [
    "t.shape"
   ],
   "metadata": {
    "collapsed": false
   },
   "id": "3096a0ec86e6c406",
   "execution_count": null
  },
  {
   "cell_type": "code",
   "outputs": [],
   "source": [
    "t.gameId.max(), t.gameId.min()"
   ],
   "metadata": {
    "collapsed": false
   },
   "id": "12c151fae0dc8d7b",
   "execution_count": null
  },
  {
   "cell_type": "code",
   "outputs": [],
   "source": [
    "# t[t.is_close].head(100)"
   ],
   "metadata": {
    "collapsed": false
   },
   "id": "315a13cb7150e63b",
   "execution_count": null
  },
  {
   "cell_type": "code",
   "outputs": [],
   "source": [
    "def add_tackle_info(df: pd.DataFrame) -> pd.DataFrame:\n",
    "    tackles = nfl.data.load_tackles()\n",
    "    return (df\n",
    "            .merge(tackles, how='left', on=gpn)\n",
    "            .fillna(value={c: 0 for c in ['tackle', 'assist', 'forcedFumble', 'pff_missedTackle']}))"
   ],
   "metadata": {
    "collapsed": false
   },
   "id": "d5023a054fbf1ce5",
   "execution_count": null
  },
  {
   "cell_type": "code",
   "outputs": [],
   "source": [
    "t = add_tackle_info(t)\n",
    "# t[t.is_close].head(100)"
   ],
   "metadata": {
    "collapsed": false
   },
   "id": "4902037f41633a65",
   "execution_count": null
  },
  {
   "cell_type": "code",
   "outputs": [],
   "source": [
    "px.violin(data_frame=t[t.is_close],\n",
    "          x='tackle',\n",
    "          y='d_bc')"
   ],
   "metadata": {
    "collapsed": false
   },
   "id": "4593f6ff916b52d1",
   "execution_count": null
  },
  {
   "cell_type": "code",
   "outputs": [],
   "source": [
    "(t\n",
    " [(t.tackle == 1) & (t.is_close)]\n",
    " .groupby('displayName')\n",
    " .d_bc\n",
    " .median()\n",
    " .sort_values(ascending=False))"
   ],
   "metadata": {
    "collapsed": false
   },
   "id": "8e0749bd5c1f995d",
   "execution_count": null
  },
  {
   "cell_type": "code",
   "outputs": [],
   "source": [
    "def add_relative_motion(df: pd.DataFrame) -> pd.DataFrame:\n",
    "    df.loc[:, 'dir_rel'] = df.dir_ballcarrier - df.dir\n",
    "    # this is just the component of the defender's speed in the direction of the\n",
    "    # ball carrier -- it may be better to calculate the velocity in a moving\n",
    "    # reference frame\n",
    "    # todo: look up formula for velocity in a moving (accelerating even) ref frame\n",
    "    df.loc[:, 's_rel'] = df.s_ballcarrier - df.s * np.cos(np.radians(df.dir_rel))\n",
    "    return df"
   ],
   "metadata": {
    "collapsed": false
   },
   "id": "6e2aee1c99c64752",
   "execution_count": null
  },
  {
   "cell_type": "code",
   "outputs": [],
   "source": [
    "t = add_relative_motion(t)\n",
    "# t[t.is_close]"
   ],
   "metadata": {
    "collapsed": false
   },
   "id": "73b42fac80487ee4",
   "execution_count": null
  },
  {
   "cell_type": "code",
   "outputs": [],
   "source": [
    "# look at all defensive players on one single play\n",
    "z = t[(t.gameId == 2022090800) & (t.playId == 56) & (t.club == 'LA')]\n",
    "px.line(data_frame=z,\n",
    "        x='d_bc',\n",
    "        y='s_rel',\n",
    "        color='displayName')"
   ],
   "metadata": {
    "collapsed": false
   },
   "id": "a5831afb085f7e34",
   "execution_count": null
  },
  {
   "cell_type": "code",
   "outputs": [],
   "source": [
    "def my_bin(s: pd.Series, n_bins: int, s_min: float | None = None, s_max: float | None = None) -> np.ndarray:\n",
    "    s_min = s_min or s.min()\n",
    "    s_max = s_max or s.max()\n",
    "    bin_width = (s_max - s_min) / n_bins\n",
    "    return s_min + (1 + s.floordiv(bin_width)) * bin_width"
   ],
   "metadata": {
    "collapsed": false
   },
   "id": "55b0865cf38bc30",
   "execution_count": null
  },
  {
   "cell_type": "code",
   "outputs": [],
   "source": [
    "def get_radial_bins(r: pd.Series, n_bins_r: int = 10, s_min: float | None = None, s_max: float | None = None) -> np.ndarray:\n",
    "    s_min = s_min or r.min()\n",
    "    s_max = s_max or r.max()\n",
    "    \n",
    "    # chose n_bins_r - 1 numbers r_i such that r_{i + 1}^2 - r_{i}^2 is the same for all i\n",
    "    annulus_area = (s_max ** 2 - s_min ** 2) / n_bins_r\n",
    "    r_vals = [0]\n",
    "    for i in range(n_bins_r):\n",
    "        r_vals.append((annulus_area + r_vals[-1] ** 2) ** .5)\n",
    "    \n",
    "    intervals = pd.cut(r.clip(0.0, 2.0 - 1e-6), bins=r_vals, include_lowest=True)\n",
    "    lft = intervals.apply(lambda interval: interval.left).astype(float)\n",
    "    rgt = intervals.apply(lambda interval: interval.right).astype(float)\n",
    "    return rgt - lft\n",
    "\n",
    "\n",
    "def get_theta_bins(theta: pd.Series, n_bins_theta: int = 30) -> np.ndarray:\n",
    "    # for starters, any negative value should be moved to the positive side of the axis\n",
    "    theta = pd.Series(np.where(theta > 0, theta, 360 + theta), index=theta.index)\n",
    "    if 360 % n_bins_theta != 0:\n",
    "        raise ValueError()\n",
    "    theta_bins = np.linspace(0, 360, n_bins_theta + 1)\n",
    "    return (pd.cut(theta, bins=theta_bins, include_lowest=True)\n",
    "            .apply(lambda interval: interval.left)\n",
    "            .astype(float)\n",
    "            .clip(0.0))\n",
    "\n",
    "\n",
    "def add_radial_bins(df: pd.DataFrame, n_bins_r: int = 10, n_bins_theta: int = 30) -> pd.DataFrame:\n",
    "    df.loc[:, 'd_bc_bin'] = get_radial_bins(r=df.d_bc, n_bins_r=n_bins_r, s_min=0.0, s_max=2.0)\n",
    "    df.loc[:, 'dir_rel_bin'] = get_theta_bins(theta=df.dir_rel, n_bins_theta=n_bins_theta)\n",
    "    return df\n",
    "\n",
    "# get_radial_bins(z.d_bc, s_min=0, s_max=2.0)\n",
    "# get_theta_bins(z.dir_rel).astype(float).clip(0.0)"
   ],
   "metadata": {
    "collapsed": false
   },
   "id": "a8c227a3ca813106",
   "execution_count": null
  },
  {
   "cell_type": "code",
   "outputs": [],
   "source": [
    "import plotly.graph_objs as go\n",
    "\n",
    "\n",
    "def make_radial_plot(df: pd.DataFrame, n_bins_r: int = 10, n_bins_theta: int = 30) -> go.Figure:\n",
    "    df = add_radial_bins(df=df, n_bins_r=n_bins_r, n_bins_theta=n_bins_theta)\n",
    "    df_avg = (df\n",
    "              .groupby(['d_bc_bin', 'dir_rel_bin'])\n",
    "              .tackle\n",
    "              .mean()\n",
    "              .reset_index()\n",
    "              .sort_values(by=['d_bc_bin', 'dir_rel_bin'], ascending=[False, True]))\n",
    "    \n",
    "    fig = px.bar_polar(data_frame=df_avg,\n",
    "                       r='d_bc_bin',\n",
    "                       theta='dir_rel_bin',\n",
    "                       color='tackle',\n",
    "                       height=1_000,\n",
    "                       width=1_000)\n",
    "    fig.update_layout(polar_bargap=0)\n",
    "    return fig\n",
    "\n",
    "\n",
    "z = (t\n",
    "     [t.is_close]\n",
    "     [gpfn + ['displayName', 'd_bc', 'tackle', 'dir_rel', 's_rel']]\n",
    "     .sort_values(by=['d_bc', 'dir_rel']))\n",
    "\n",
    "make_radial_plot(z)"
   ],
   "metadata": {
    "collapsed": false
   },
   "id": "856dcacb20682642",
   "execution_count": null
  },
  {
   "cell_type": "code",
   "outputs": [],
   "source": [
    "def add_position(df: pd.DataFrame) -> pd.DataFrame:\n",
    "    player_ids = nfl.data.load_players()[['nflId', 'position']]\n",
    "    return df.merge(player_ids, how='left', on='nflId')\n",
    "\n",
    "t = add_position(t)\n",
    "\n",
    "# t.head(20)"
   ],
   "metadata": {
    "collapsed": false
   },
   "id": "78f07f6e30399d84",
   "execution_count": null
  },
  {
   "cell_type": "code",
   "outputs": [],
   "source": [
    "t.position.value_counts()"
   ],
   "metadata": {
    "collapsed": false
   },
   "id": "c75c176532790524",
   "execution_count": null
  },
  {
   "cell_type": "code",
   "outputs": [],
   "source": [
    "z = (t\n",
    "     [t.is_close & (t.position == 'CB')]\n",
    "     [gpfn + ['displayName', 'd_bc', 'tackle', 'dir_rel', 's_rel']]\n",
    "     .sort_values(by=['d_bc', 'dir_rel']))\n",
    "\n",
    "make_radial_plot(z)"
   ],
   "metadata": {
    "collapsed": false
   },
   "id": "7e9eb4ed5a78e983",
   "execution_count": null
  },
  {
   "cell_type": "code",
   "outputs": [],
   "source": [
    "z = (t\n",
    "     [t.is_close & (t.position == 'DE')]\n",
    "     [gpfn + ['displayName', 'd_bc', 'tackle', 'dir_rel', 's_rel']]\n",
    "     .sort_values(by=['d_bc', 'dir_rel']))\n",
    "\n",
    "make_radial_plot(z)"
   ],
   "metadata": {
    "collapsed": false
   },
   "id": "9c47fe8d6ed948fa",
   "execution_count": null
  },
  {
   "cell_type": "code",
   "outputs": [],
   "source": [
    "def add_sideline_distance(df: pd.DataFrame) -> pd.DataFrame:\n",
    "    df.loc[:, 'd_sideline'] = df.y.apply(lambda y: min(53.3 - y, y - 0))\n",
    "    return df"
   ],
   "metadata": {
    "collapsed": false
   },
   "id": "224dd30ed96714d5",
   "execution_count": null
  },
  {
   "cell_type": "code",
   "outputs": [],
   "source": [
    "t = add_sideline_distance(t)\n",
    "# t.head()"
   ],
   "metadata": {
    "collapsed": false
   },
   "id": "45257b34fa65f9e3",
   "execution_count": null
  },
  {
   "cell_type": "markdown",
   "source": [
    "## establish position-dependent baseline tackle success rates\n",
    "\n",
    "we will do this by training logistic regression models (one for each position) on very few features:\n",
    "\n",
    "1. distance to ball carrier\n",
    "2. relative speed in the direction of motion of the ballcarrier\n",
    "3. the angle of approach of the defender to the ballcarrier (represented as two features, the `sin` and `cos` of the angle between their respective heading directions)\n",
    "\n",
    "we will use k-fold validation to prevent overfitting "
   ],
   "metadata": {
    "collapsed": false
   },
   "id": "202771c382cb3367"
  },
  {
   "cell_type": "code",
   "outputs": [],
   "source": [
    "pos = 'ILB'\n",
    "k = 5\n",
    "\n",
    "from sklearn.linear_model import LogisticRegressionCV\n",
    "\n",
    "clf = LogisticRegressionCV(Cs=50,\n",
    "                           cv=k,\n",
    "                           scoring='neg_log_loss',\n",
    "                           n_jobs=-1,\n",
    "                           random_state=1337,\n",
    "                           tol=1e-6)\n",
    "\n",
    "z = (t\n",
    "     [t.is_close & (t.position == pos)]\n",
    "     [gpfn + ['displayName', 'position', 'd_bc', 'tackle', 'dir_rel', 's_rel', 'd_sideline']])\n",
    "z.loc[:, 'sin_dir_rel'] = np.sin(z.dir_rel)\n",
    "z.loc[:, 'cos_dir_rel'] = np.cos(z.dir_rel)\n",
    "z.loc[:, 'sin_x_cos'] = z.sin_dir_rel * z.cos_dir_rel\n",
    "z.loc[:, 'd_bc_x_s_rel'] = z.d_bc * z.s_rel\n",
    "print(f\" z has {z.shape[0]:,} records\")\n",
    "\n",
    "feature_names = ['d_bc', 'sin_dir_rel', 'cos_dir_rel', 's_rel', 'd_sideline', 'sin_x_cos', 'd_bc_x_s_rel']\n",
    "X = z[feature_names]\n",
    "y = z.tackle\n",
    "\n",
    "clf.fit(X, y)\n",
    "\n",
    "clf.score(X, y)"
   ],
   "metadata": {
    "collapsed": false
   },
   "id": "fcc04b02b8a6c00f",
   "execution_count": null
  },
  {
   "cell_type": "code",
   "outputs": [],
   "source": [
    "pd.DataFrame({'coef': clf.coef_.tolist()[0], 'feature_name': feature_names})"
   ],
   "metadata": {
    "collapsed": false
   },
   "id": "d087e3e5472fd897",
   "execution_count": null
  },
  {
   "cell_type": "code",
   "outputs": [],
   "source": [
    "df_pred = pd.DataFrame({'y_pred': clf.predict_proba(X)[:, 1],\n",
    "                        'y': y})\n",
    "px.violin(data_frame=df_pred, x='y', y='y_pred')"
   ],
   "metadata": {
    "collapsed": false
   },
   "id": "43c157d01f06e546",
   "execution_count": null
  },
  {
   "cell_type": "code",
   "outputs": [],
   "source": [
    "players = nfl.data.load_players()\n",
    "players[players.displayName.str.match('.*Wagner')]"
   ],
   "metadata": {
    "collapsed": false
   },
   "id": "772710ec27672690",
   "execution_count": null
  },
  {
   "cell_type": "code",
   "outputs": [],
   "source": [
    "is_bobby_wagner = z.nflId == 38577\n",
    "X = z[feature_names]\n",
    "y = z.tackle\n",
    "df_pred = pd.DataFrame({'prob': clf.predict_proba(X)[:, 1],\n",
    "                        'y': y})\n",
    "px.violin(data_frame=df_pred, x='y', y='prob', color=is_bobby_wagner)"
   ],
   "metadata": {
    "collapsed": false
   },
   "id": "ce246890c2f4b03",
   "execution_count": null
  },
  {
   "cell_type": "code",
   "outputs": [],
   "source": [
    "df = z.copy()\n",
    "df.loc[:, 'is_bobby_wagner'] = df.nflId == 38577\n",
    "\n",
    "df = add_radial_bins(df=df, n_bins_theta=15)\n",
    "df_avg = (df\n",
    "          .groupby(['d_bc_bin', 'dir_rel_bin', 'is_bobby_wagner'])\n",
    "          .tackle\n",
    "          .mean()\n",
    "          .reset_index()\n",
    "          .sort_values(by=['d_bc_bin', 'dir_rel_bin', 'is_bobby_wagner'], ascending=[False, True, True])\n",
    "          .pivot_table(values='tackle', index=['d_bc_bin', 'dir_rel_bin'], columns=['is_bobby_wagner']))\n",
    "df_avg.loc[:, 'player_over_repl'] = df_avg[True] - df_avg[False]\n",
    "\n",
    "px.histogram(df_avg.dropna().player_over_repl)"
   ],
   "metadata": {
    "collapsed": false
   },
   "id": "79b07a24c5822c3a",
   "execution_count": null
  },
  {
   "cell_type": "code",
   "outputs": [],
   "source": [],
   "metadata": {
    "collapsed": false
   },
   "id": "ad4d862ed6d2c9cb"
  }
 ],
 "metadata": {
  "kernelspec": {
   "display_name": "Python 3",
   "language": "python",
   "name": "python3"
  },
  "language_info": {
   "codemirror_mode": {
    "name": "ipython",
    "version": 2
   },
   "file_extension": ".py",
   "mimetype": "text/x-python",
   "name": "python",
   "nbconvert_exporter": "python",
   "pygments_lexer": "ipython2",
   "version": "2.7.6"
  }
 },
 "nbformat": 4,
 "nbformat_minor": 5
}
