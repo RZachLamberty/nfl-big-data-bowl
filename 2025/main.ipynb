{
 "cells": [
  {
   "cell_type": "code",
   "id": "initial_id",
   "metadata": {
    "collapsed": true
   },
   "source": [
    "import os\n",
    "import sys\n",
    "\n",
    "import numpy as np\n",
    "import pandas as pd\n",
    "\n",
    "sys.path.insert(0, os.path.dirname(os.getcwd()))\n",
    "\n",
    "import nfl.data\n",
    "from nfl.vis import animate_play"
   ],
   "outputs": [],
   "execution_count": null
  },
  {
   "metadata": {},
   "cell_type": "code",
   "source": "pd.set_option('future.no_silent_downcasting', True)",
   "id": "b63f11bf30a671c9",
   "outputs": [],
   "execution_count": null
  },
  {
   "metadata": {},
   "cell_type": "markdown",
   "source": "# loading data",
   "id": "a7993b9a67d0ae5c"
  },
  {
   "metadata": {},
   "cell_type": "code",
   "source": "nfl.data.DATA_DIR",
   "id": "b623ba0f0b015709",
   "outputs": [],
   "execution_count": null
  },
  {
   "metadata": {},
   "cell_type": "code",
   "source": [
    "games = nfl.data.load_games()\n",
    "games.head()"
   ],
   "id": "b1291c2b393794bb",
   "outputs": [],
   "execution_count": null
  },
  {
   "metadata": {},
   "cell_type": "code",
   "source": [
    "players = nfl.data.load_players()\n",
    "players.head()"
   ],
   "id": "4f0a80437d221c17",
   "outputs": [],
   "execution_count": null
  },
  {
   "metadata": {},
   "cell_type": "code",
   "source": [
    "plays = nfl.data.load_plays()\n",
    "plays.head(20)"
   ],
   "id": "217fb76eafde5952",
   "outputs": [],
   "execution_count": null
  },
  {
   "metadata": {},
   "cell_type": "markdown",
   "source": "",
   "id": "b27bb02551faf2c4"
  },
  {
   "metadata": {},
   "cell_type": "code",
   "source": [
    "# z = pd.read_csv('/Users/zach.lamberty/code/nfl-big-data-bowl/data/2025/tracking_week_1.csv')\n",
    "# z[z.gameId == gameId].playId.unique()"
   ],
   "id": "46b9a5b671be9798",
   "outputs": [],
   "execution_count": null
  },
  {
   "metadata": {},
   "cell_type": "code",
   "source": [
    "tracking = nfl.data.load_all_tracking(week_num_start=1, week_num_end=9)\n",
    "\n",
    "# let's add on an indicator for when the player is on offense -- it will be handy later on\n",
    "tracking = (tracking\n",
    "            .merge(plays[['gameId', 'playId', 'possessionTeam']].rename(columns={'possessionTeam': 'club'}),\n",
    "                   how='left', on=['gameId', 'playId', 'club'], indicator=True))\n",
    "\n",
    "tracking.loc[:, 'is_offense'] = tracking['_merge'] == 'both'\n",
    "\n",
    "tracking.drop(columns=['_merge'], inplace=True)\n",
    "\n",
    "tracking.head(25)"
   ],
   "id": "788c49ecba301f9d",
   "outputs": [],
   "execution_count": null
  },
  {
   "metadata": {},
   "cell_type": "code",
   "source": "tracking.shape",
   "id": "13d71f1ac0a75202",
   "outputs": [],
   "execution_count": null
  },
  {
   "metadata": {},
   "cell_type": "code",
   "source": "assert tracking.shape == (59_327_373, 19)",
   "id": "b418075efeca06ac",
   "outputs": [],
   "execution_count": null
  },
  {
   "metadata": {},
   "cell_type": "code",
   "source": "# tracking[tracking.is_offense].head(25)",
   "id": "c980475c40dc2cd3",
   "outputs": [],
   "execution_count": null
  },
  {
   "metadata": {},
   "cell_type": "markdown",
   "source": "## some lil ol stats",
   "id": "2bcc629f4a88d305"
  },
  {
   "metadata": {},
   "cell_type": "code",
   "source": [
    "z = plays[['offenseFormation', 'playDescription']].copy()\n",
    "z.loc[:, 'regex_formation'] = z.playDescription.str.extract(pat='.*\\\\) \\\\((\\\\w*)\\\\).*')\n",
    "z = z[['offenseFormation', 'regex_formation', 'playDescription']]\n",
    "\n",
    "z.groupby(['offenseFormation', 'regex_formation'], observed=False).count()"
   ],
   "id": "eb655bdf8d12a51b",
   "outputs": [],
   "execution_count": null
  },
  {
   "metadata": {},
   "cell_type": "code",
   "source": "plays.head().playDescription.str.extract(pat='.*\\\\) \\\\((\\\\w*)\\\\).*')",
   "id": "bbd5e6a5255c5058",
   "outputs": [],
   "execution_count": null
  },
  {
   "metadata": {},
   "cell_type": "markdown",
   "source": [
    "## verify `isDropback` is the same as passing\n",
    "\n",
    "does every `isDropback` correspond to a pass play? and does every pass play correspond to a dropback?"
   ],
   "id": "6ecadc3da665f8ba"
  },
  {
   "metadata": {},
   "cell_type": "code",
   "source": [
    "(plays\n",
    " .groupby(['passResult', 'isDropback'], observed=True)\n",
    " .passResult\n",
    " .count())"
   ],
   "id": "70ca10031067b9a1",
   "outputs": [],
   "execution_count": null
  },
  {
   "metadata": {},
   "cell_type": "code",
   "source": [
    "z = plays[['passResult', 'isDropback']].copy()\n",
    "z[z.passResult.isna()].isDropback.value_counts()"
   ],
   "id": "7fcdbd7cb70cb8e7",
   "outputs": [],
   "execution_count": null
  },
  {
   "metadata": {},
   "cell_type": "code",
   "source": "z[z.passResult.isna()].isDropback.isna().any()",
   "id": "9809566cc8c174fa",
   "outputs": [],
   "execution_count": null
  },
  {
   "metadata": {},
   "cell_type": "code",
   "source": "z[z.isDropback.isna()].passResult.isna().any()",
   "id": "f4c9de45f094e474",
   "outputs": [],
   "execution_count": null
  },
  {
   "metadata": {},
   "cell_type": "markdown",
   "source": "# game meta",
   "id": "1591e7e2f742f034"
  },
  {
   "metadata": {},
   "cell_type": "code",
   "source": [
    "idx_cols = ['gameId', 'playId']\n",
    "meta_cols = idx_cols + [\n",
    "    'qbSpike',\n",
    "    'qbKneel',\n",
    "    'playDescription',\n",
    "]\n",
    "\n",
    "meta = (plays\n",
    "        [meta_cols]\n",
    "        .copy()\n",
    "        .set_index(idx_cols)\n",
    "        .sort_index())\n",
    "\n",
    "meta.loc[:, 'is_spike'] = meta.qbSpike.fillna(False)\n",
    "meta.loc[:, 'is_kneel'] = meta.qbKneel == 1\n",
    "meta.loc[:, 'should_ignore'] = meta.is_spike | meta.is_kneel\n",
    "meta.drop(columns=['qbSpike', 'qbKneel'], inplace=True)\n",
    "\n",
    "meta.head(20)"
   ],
   "id": "a24e9283c1da21c",
   "outputs": [],
   "execution_count": null
  },
  {
   "metadata": {},
   "cell_type": "code",
   "source": "meta[~meta.is_kneel]",
   "id": "793fa16f9227ae1e",
   "outputs": [],
   "execution_count": null
  },
  {
   "metadata": {},
   "cell_type": "markdown",
   "source": "# play vs. home -> possession vs. not",
   "id": "ff9224c2d06e6f30"
  },
  {
   "metadata": {},
   "cell_type": "code",
   "source": [
    "# converting all home / away features to possession team features\n",
    "def get_possession_versions(plays: pd.DataFrame, games: pd.DataFrame) -> pd.DataFrame:\n",
    "    pvh = (plays\n",
    "           [['gameId', 'playId', 'possessionTeam',\n",
    "             'preSnapHomeScore', 'preSnapVisitorScore',\n",
    "             'preSnapHomeTeamWinProbability']]\n",
    "           .copy()\n",
    "           .set_index(['gameId', 'playId'])\n",
    "           .sort_index())\n",
    "\n",
    "    pvh = pvh.join(games.set_index('gameId')[['homeTeamAbbr']], how='left')\n",
    "    pvh.loc[:, 'possession_team_is_home'] = pvh.possessionTeam == pvh.homeTeamAbbr\n",
    "    pvh.drop(columns='homeTeamAbbr', inplace=True)\n",
    "\n",
    "    pvh.loc[:, 'home_score_delta'] = pvh.preSnapHomeScore - pvh.preSnapVisitorScore\n",
    "    pvh.loc[:, 'possession_team_score_delta'] = (2 * pvh.possession_team_is_home - 1) * pvh.home_score_delta\n",
    "    pvh.drop(columns='home_score_delta', inplace=True)\n",
    "\n",
    "    pvh.loc[:, 'presnap_possession_team_win_probability'] = np.where(\n",
    "        pvh.possession_team_is_home,\n",
    "        pvh.preSnapHomeTeamWinProbability,\n",
    "        1 - pvh.preSnapHomeTeamWinProbability\n",
    "    )\n",
    "\n",
    "    pvh = (pvh\n",
    "           [['possession_team_is_home',\n",
    "             'possession_team_score_delta',\n",
    "             'presnap_possession_team_win_probability']])\n",
    "\n",
    "    pvh.loc[:, 'possession_team_score_delta_cat'] = np.where(\n",
    "        pvh.possession_team_score_delta > 16, 'up 3+ scores',\n",
    "        np.where(\n",
    "            pvh.possession_team_score_delta > 8, 'up 2 scores',\n",
    "            np.where(\n",
    "                pvh.possession_team_score_delta > 0, 'up 1 score',\n",
    "                np.where(\n",
    "                    pvh.possession_team_score_delta == 0, 'tied',\n",
    "                    np.where(\n",
    "                        pvh.possession_team_score_delta > -9, 'down 1 score',\n",
    "                        np.where(\n",
    "                            pvh.possession_team_score_delta > -17, 'down 2 scores',\n",
    "                            'down 3+ scores'\n",
    "                        )\n",
    "                    )\n",
    "                )\n",
    "            )\n",
    "        )\n",
    "    )\n",
    "\n",
    "    pvh.possession_team_score_delta_cat = pvh.possession_team_score_delta_cat.astype('category')\n",
    "\n",
    "    return pvh"
   ],
   "id": "696156c9626ac1b",
   "outputs": [],
   "execution_count": null
  },
  {
   "metadata": {},
   "cell_type": "code",
   "source": [
    "possession_team_versions = get_possession_versions(plays=plays, games=games)\n",
    "possession_team_versions.head()"
   ],
   "id": "90d10e22e6e8bc49",
   "outputs": [],
   "execution_count": null
  },
  {
   "metadata": {},
   "cell_type": "markdown",
   "source": "# formation",
   "id": "e6e4adc3f4bfdd20"
  },
  {
   "metadata": {},
   "cell_type": "markdown",
   "source": "## hash information",
   "id": "b7b4838d9ee2d1bc"
  },
  {
   "metadata": {},
   "cell_type": "code",
   "source": [
    "def add_hash_info(df: pd.DataFrame) -> pd.DataFrame:\n",
    "    field_width_yds = 53.3\n",
    "    midfield_yds = field_width_yds / 2\n",
    "\n",
    "    hash_width_ft = 18.5\n",
    "    hash_width_yds = hash_width_ft / 3\n",
    "\n",
    "    qtr_hash_width_yds = hash_width_yds / 4\n",
    "\n",
    "    y_home_center_boundary = midfield_yds - qtr_hash_width_yds\n",
    "    y_center_visitor_boundary = midfield_yds + qtr_hash_width_yds\n",
    "\n",
    "    df.loc[:, 'hv_hash'] = np.where(df.y <= y_home_center_boundary, 'home',\n",
    "                                    np.where(df.y <= y_center_visitor_boundary, 'center', 'visitor'))\n",
    "\n",
    "    df.loc[:, 'ball_hash_cat'] = np.where(\n",
    "        df.hv_hash == 'center',\n",
    "        'center',\n",
    "        np.where(\n",
    "            (df.playDirection == 'right'),\n",
    "            # heading right with ball on home hash: right of center\n",
    "            np.where(df.hv_hash == 'home', 'right', 'left'),\n",
    "            # heading left with ball on home hash: left of center\n",
    "            np.where(df.hv_hash == 'home', 'left', 'right')\n",
    "        )\n",
    "    )\n",
    "    df.ball_hash_cat = df.ball_hash_cat.astype('category')\n",
    "\n",
    "    return df"
   ],
   "id": "676a9caa7496b9b0",
   "outputs": [],
   "execution_count": null
  },
  {
   "metadata": {},
   "cell_type": "code",
   "source": [
    "def get_ball_hash_info(tracking: pd.DataFrame) -> pd.DataFrame:\n",
    "    ball_location = (tracking\n",
    "                     [(tracking.displayName == 'football')\n",
    "                      & (tracking.frameType == 'SNAP')]\n",
    "                     .copy())\n",
    "\n",
    "    ball_location = add_hash_info(df=ball_location)\n",
    "\n",
    "    return (ball_location\n",
    "            [['gameId', 'playId', 'hv_hash', 'ball_hash_cat']]\n",
    "            .set_index(['gameId', 'playId'])\n",
    "            .sort_index())"
   ],
   "id": "a64a61080ded393a",
   "outputs": [],
   "execution_count": null
  },
  {
   "metadata": {},
   "cell_type": "code",
   "source": [
    "hash_info = get_ball_hash_info(tracking=tracking)\n",
    "hash_info.head(250)"
   ],
   "id": "33c1ee37c3ff9790",
   "outputs": [],
   "execution_count": null
  },
  {
   "metadata": {},
   "cell_type": "code",
   "source": [
    "gameId = 2022090800\n",
    "hash_info.loc[(gameId,)].sort_index()"
   ],
   "id": "c75f043fa6aa2e5c",
   "outputs": [],
   "execution_count": null
  },
  {
   "metadata": {},
   "cell_type": "code",
   "source": [
    "# playId = 486  # left\n",
    "# playId = 529  # right\n",
    "# playId = 1504  # center\n",
    "\n",
    "# animate_play(games=games,\n",
    "#              tracking_df=tracking,\n",
    "#              play_df=plays,\n",
    "#              gameId=gameId,\n",
    "#              playId=playId)"
   ],
   "id": "d64c8b8a6c60da1b",
   "outputs": [],
   "execution_count": null
  },
  {
   "metadata": {},
   "cell_type": "code",
   "source": "# ball_location.y.clip(22, 32).hist(bins=100)",
   "id": "26325c3a7f238ba8",
   "outputs": [],
   "execution_count": null
  },
  {
   "metadata": {},
   "cell_type": "code",
   "source": [
    "# (tracking\n",
    "#  [(tracking.event == 'line_set')\n",
    "#   & (tracking.gameId == 2022091200)\n",
    "#   & (tracking.playId == 64)])"
   ],
   "id": "8e0b2d78bded75d0",
   "outputs": [],
   "execution_count": null
  },
  {
   "metadata": {},
   "cell_type": "code",
   "source": [
    "# hash_info.loc[(2022091100,), :]\n",
    "# hash_info.loc[(2022091100, 1359), :]\n",
    "(tracking\n",
    " [(tracking.gameId == 2022091100) & (tracking.playId == 1359)])"
   ],
   "id": "4ff2dd4a2c5855a1",
   "outputs": [],
   "execution_count": null
  },
  {
   "metadata": {},
   "cell_type": "code",
   "source": [
    "# every gameId / playId has one and only one frameType == 'SNAP'\n",
    "n_plays = tracking[['gameId', 'playId']].sort_values(by=['gameId', 'playId']).drop_duplicates().shape[0]\n",
    "n_plays_w_SNAP = tracking[tracking.frameType == 'SNAP'][['gameId', 'playId']].sort_values(by=['gameId', 'playId']).drop_duplicates().shape[0]\n",
    "# every play has a snap event\n",
    "assert n_plays == n_plays_w_SNAP\n",
    "\n",
    "# every play has exactly 1 snap frameId\n",
    "assert tracking[tracking.frameType == 'SNAP'].groupby(by=['gameId', 'playId']).frameId.nunique().max() == 1"
   ],
   "id": "9c07a537de5d6758",
   "outputs": [],
   "execution_count": null
  },
  {
   "metadata": {},
   "cell_type": "markdown",
   "source": "## personnel grouping",
   "id": "b86397046d951a64"
  },
  {
   "metadata": {},
   "cell_type": "code",
   "source": [
    "def get_personnel_grouping(tracking: pd.DataFrame) -> pd.DataFrame:\n",
    "    players_on_field = (tracking\n",
    "                        [(tracking.frameType == 'SNAP')\n",
    "                         & (tracking.is_offense)]\n",
    "                        [['gameId', 'playId', 'nflId', 'club']]\n",
    "                        .copy())\n",
    "\n",
    "    skill_players = players[players.position.isin(['QB', 'RB', 'WR', 'TE', 'FB'])]\n",
    "\n",
    "    offense_on_field = (players_on_field\n",
    "                        .merge(skill_players[['nflId', 'position']], how='inner', on='nflId'))\n",
    "\n",
    "    num_skill_players = (offense_on_field\n",
    "                         .drop(columns=['nflId'])\n",
    "                         .pivot_table(values='club',\n",
    "                                      index=['gameId', 'playId'],\n",
    "                                      columns='position',\n",
    "                                      aggfunc='count',\n",
    "                                      observed=True)\n",
    "                         .fillna(0.0))\n",
    "\n",
    "    num_skill_players.columns.name = None\n",
    "\n",
    "    num_skill_players.loc[:, 'pg_rb'] = num_skill_players.FB + num_skill_players.RB\n",
    "    num_skill_players.loc[:, 'pg_te'] = num_skill_players.TE\n",
    "    num_skill_players.loc[:, 'pg_cat'] = (num_skill_players.pg_rb.astype(int).astype(str) + num_skill_players.pg_te.astype(int).astype(str)).astype('category')\n",
    "\n",
    "    return num_skill_players"
   ],
   "id": "59e8b1e613d9b67d",
   "outputs": [],
   "execution_count": null
  },
  {
   "metadata": {},
   "cell_type": "code",
   "source": [
    "personnel_grouping = get_personnel_grouping(tracking=tracking)\n",
    "\n",
    "personnel_grouping.head(25)"
   ],
   "id": "75a2826eee20346e",
   "outputs": [],
   "execution_count": null
  },
  {
   "metadata": {},
   "cell_type": "code",
   "source": "personnel_grouping.pg_cat.value_counts()",
   "id": "c29f24813bd41c1b",
   "outputs": [],
   "execution_count": null
  },
  {
   "metadata": {},
   "cell_type": "code",
   "source": "personnel_grouping.pg_cat.cat.categories",
   "id": "db5d905ce9e80863",
   "outputs": [],
   "execution_count": null
  },
  {
   "metadata": {},
   "cell_type": "markdown",
   "source": "### sanity check an instance of 0 qbs",
   "id": "2962a8765bc8c37d"
  },
  {
   "metadata": {},
   "cell_type": "code",
   "source": "# positions_on_field[positions_on_field.QB == 0].head()",
   "id": "839e380b9c935930",
   "outputs": [],
   "execution_count": null
  },
  {
   "metadata": {},
   "cell_type": "code",
   "source": [
    "# # direct snap to alvin kamara when he was running qb for the saints\n",
    "# animate_play(games=games,\n",
    "#              tracking_df=tracking,\n",
    "#              play_df=plays,\n",
    "#              gameId=2022101605,\n",
    "#              playId=2608)"
   ],
   "id": "db397046c0fc82f3",
   "outputs": [],
   "execution_count": null
  },
  {
   "metadata": {},
   "cell_type": "markdown",
   "source": [
    "## checking on receiver alignment -- does it agree with the formation?\n",
    "\n",
    "nope! clear from the animated plays with iloc 0 and 1 below, but also obvious from the existence of `3x2` but not `2x3`"
   ],
   "id": "c9c7e557c3e1572"
  },
  {
   "metadata": {},
   "cell_type": "code",
   "source": "plays[['gameId', 'playId', 'receiverAlignment']].head(100)",
   "id": "323f4837ec163c4e",
   "outputs": [],
   "execution_count": null
  },
  {
   "metadata": {},
   "cell_type": "code",
   "source": [
    "# gameId, playId, receiverAlignment = plays[['gameId', 'playId', 'receiverAlignment']].iloc[1]\n",
    "# print(f\"{receiverAlignment = }\")\n",
    "#\n",
    "# animate_play(games=games,\n",
    "#              tracking_df=tracking,\n",
    "#              play_df=plays,\n",
    "#              gameId=gameId,\n",
    "#              playId=playId)"
   ],
   "id": "336b483273c5aa99",
   "outputs": [],
   "execution_count": null
  },
  {
   "metadata": {},
   "cell_type": "markdown",
   "source": "# pre-snap motion",
   "id": "4e5d872c295f5655"
  },
  {
   "metadata": {},
   "cell_type": "code",
   "source": [
    "def get_plays_w_motion(tracking: pd.DataFrame) -> pd.DataFrame:\n",
    "    plays_w_motion = (tracking\n",
    "                      [tracking.event == 'man_in_motion']\n",
    "                      [['gameId', 'playId']]\n",
    "                      .copy()\n",
    "                      .sort_values(by=['gameId', 'playId'])\n",
    "                      .drop_duplicates())\n",
    "\n",
    "    plays_w_motion.loc[:, 'had_motion'] = True\n",
    "    plays_w_motion.set_index(['gameId', 'playId'], inplace=True)\n",
    "\n",
    "    return plays_w_motion"
   ],
   "id": "d98a93879f1270c5",
   "outputs": [],
   "execution_count": null
  },
  {
   "metadata": {},
   "cell_type": "code",
   "source": [
    "plays_w_motion = get_plays_w_motion(tracking=tracking)\n",
    "plays_w_motion.head(25)"
   ],
   "id": "16ca1e2f9e1e432f",
   "outputs": [],
   "execution_count": null
  },
  {
   "metadata": {},
   "cell_type": "markdown",
   "source": "## example play with motion",
   "id": "51d31451113d5852"
  },
  {
   "metadata": {},
   "cell_type": "code",
   "source": [
    "# animate_play(games=games,\n",
    "#              tracking_df=tracking,\n",
    "#              play_df=plays,\n",
    "#              gameId=2022091200,\n",
    "#              playId=64)"
   ],
   "id": "ba4e510a91ab26e6",
   "outputs": [],
   "execution_count": null
  },
  {
   "metadata": {},
   "cell_type": "markdown",
   "source": "# skill player changes between / in games",
   "id": "dfd431cd518c9970"
  },
  {
   "metadata": {},
   "cell_type": "code",
   "source": [
    "def get_starting_qb_change_data(tracking: pd.DataFrame, players: pd.DataFrame) -> pd.DataFrame:\n",
    "    idx_cols = ['club', 'gameId', 'playId']\n",
    "\n",
    "    snap_frames = (tracking\n",
    "                   [(tracking.frameType == 'SNAP')\n",
    "                    & (tracking.displayName != 'football')]\n",
    "                   [['gameId', 'playId', 'club', 'nflId']])\n",
    "\n",
    "    qbs = players[players.position == 'QB']\n",
    "\n",
    "    qbs_on_field = (snap_frames\n",
    "                    .merge(qbs[['nflId', 'displayName']], how='inner', on='nflId')\n",
    "                    .set_index(idx_cols)\n",
    "                    .sort_index())\n",
    "\n",
    "    starting_qb = qbs_on_field.groupby(level=[0, 1]).nflId.first()\n",
    "    starting_qb.name = 'starter_nflId'\n",
    "    prev_week_starter = starting_qb.groupby(level=0).shift()\n",
    "    prev_week_starter.name = 'prev_wk_starter_nflId'\n",
    "\n",
    "    # starting_qb.head(100)\n",
    "\n",
    "    starting_qb_change_data = qbs_on_field.join(starting_qb).join(prev_week_starter)\n",
    "    starting_qb_change_data.loc[:, 'starter_is_in'] = starting_qb_change_data.nflId == starting_qb_change_data.starter_nflId\n",
    "    starting_qb_change_data.loc[:, 'prev_wk_starter_is_in'] = np.where(\n",
    "        starting_qb_change_data.prev_wk_starter_nflId.isna(),\n",
    "        starting_qb_change_data.starter_is_in,\n",
    "        starting_qb_change_data.nflId == starting_qb_change_data.prev_wk_starter_nflId\n",
    "    )\n",
    "\n",
    "    # some plays have multiple QBs (e.g. every play Taysom Hill is in)\n",
    "    starting_qb_change_data = (starting_qb_change_data\n",
    "                         .reset_index()\n",
    "                         .sort_values(by=idx_cols + ['starter_is_in', 'prev_wk_starter_is_in'],\n",
    "                                      ascending=[True] * len(idx_cols) + [False, False])\n",
    "                         .groupby(idx_cols)\n",
    "                         .first())\n",
    "\n",
    "    return starting_qb_change_data\n",
    "\n",
    "starting_qb_change_data = get_starting_qb_change_data(tracking=tracking, players=players)\n",
    "starting_qb_change_data.head(100)"
   ],
   "id": "2b5372cae59a6543",
   "outputs": [],
   "execution_count": null
  },
  {
   "metadata": {},
   "cell_type": "code",
   "source": [
    "z = starting_qb_change_data.reset_index().groupby(['gameId', 'playId'])\n",
    "assert z.club.nunique().max() == 1, \"there is a play with more than one club with a QB\"\n",
    "assert z.playId.count().max() == 1, \"there are plays with multiple QBs\""
   ],
   "id": "e09dcc2bb0c7ca39",
   "outputs": [],
   "execution_count": null
  },
  {
   "metadata": {},
   "cell_type": "code",
   "source": "starting_qb_change_data.starter_is_in.value_counts(normalize=True)",
   "id": "97e7f6dd0dfe624c",
   "outputs": [],
   "execution_count": null
  },
  {
   "metadata": {},
   "cell_type": "code",
   "source": "starting_qb_change_data.prev_wk_starter_is_in.value_counts(normalize=True)",
   "id": "53b09b45cbe1dd03",
   "outputs": [],
   "execution_count": null
  },
  {
   "metadata": {},
   "cell_type": "markdown",
   "source": "## down, distance, and tendancies",
   "id": "2b3a12dbd3bcda43"
  },
  {
   "metadata": {},
   "cell_type": "code",
   "source": [
    "def get_down_and_distance_tendencies(plays: pd.DataFrame) -> pd.DataFrame:\n",
    "    dnd = plays[['gameId', 'playId', 'possessionTeam', 'down', 'yardsToGo', 'isDropback']].copy()\n",
    "    dnd.loc[:, 'dist_cat'] = np.where(\n",
    "        dnd.yardsToGo <= 2, 'short',\n",
    "        np.where(\n",
    "            dnd.yardsToGo <= 6, 'medium',\n",
    "            np.where(\n",
    "                dnd.yardsToGo <= 15, 'long',\n",
    "                'extra long'\n",
    "            )\n",
    "        )\n",
    "    )\n",
    "    dnd.dist_cat = dnd.dist_cat.astype('category')\n",
    "    dnd.sort_values(by=['possessionTeam', 'down', 'dist_cat', 'gameId', 'playId'],\n",
    "                    inplace=True)\n",
    "\n",
    "    tendencies = (dnd\n",
    "                  .groupby(['possessionTeam', 'down', 'dist_cat'], observed=True)\n",
    "                  .rolling(window=30, min_periods=1, closed='left')\n",
    "                  .isDropback\n",
    "                  .mean())\n",
    "    tendencies.name = 'is_dropback_tendency_100'\n",
    "\n",
    "    # fillna: no info, 50/50\n",
    "    tendencies.fillna(0.5, inplace=True)\n",
    "\n",
    "    return (dnd\n",
    "            .join(tendencies.reset_index(level=(0, 1, 2), drop=True))\n",
    "            .set_index(['gameId', 'playId'])\n",
    "            [['dist_cat', 'is_dropback_tendency_100']])"
   ],
   "id": "a3b3a6ff3df8706f",
   "outputs": [],
   "execution_count": null
  },
  {
   "metadata": {},
   "cell_type": "code",
   "source": [
    "dnd_tendencies = get_down_and_distance_tendencies(plays=plays)\n",
    "dnd_tendencies.head(100)"
   ],
   "id": "a95d429461b770c9",
   "outputs": [],
   "execution_count": null
  },
  {
   "metadata": {},
   "cell_type": "code",
   "source": [
    "def get_score_delta_cat(plays: pd.DataFrame,\n",
    "                        possession_team_versions: pd.DataFrame) -> pd.DataFrame:\n",
    "    pvc = (possession_team_versions\n",
    "           [['possession_team_score_delta_cat']]\n",
    "           .copy())\n",
    "\n",
    "    id_vals = (plays\n",
    "               [['gameId', 'playId', 'isDropback', 'possessionTeam']]\n",
    "               .copy()\n",
    "               .set_index(['gameId', 'playId'])\n",
    "               .sort_index())\n",
    "\n",
    "    pvc = (pvc\n",
    "           .join(id_vals)\n",
    "           .reset_index()\n",
    "           .sort_values(by=['possessionTeam', 'possession_team_score_delta_cat',\n",
    "                            'gameId', 'playId']))\n",
    "\n",
    "    tendencies = (pvc\n",
    "                  .groupby(['possessionTeam', 'possession_team_score_delta_cat'], observed=True)\n",
    "                  .rolling(window=30, min_periods=1, closed='left')\n",
    "                  .isDropback\n",
    "                  .mean())\n",
    "    tendencies.name = 'score_delta_tendency_100'\n",
    "\n",
    "    # fillna: no info, 50/50\n",
    "    tendencies.fillna(0.5, inplace=True)\n",
    "\n",
    "    return (pvc\n",
    "            .join(tendencies.reset_index(level=(0, 1), drop=True))\n",
    "            .set_index(['gameId', 'playId'])\n",
    "            [['score_delta_tendency_100']])"
   ],
   "id": "261951e26a8f3dc",
   "outputs": [],
   "execution_count": null
  },
  {
   "metadata": {},
   "cell_type": "code",
   "source": [
    "score_delta_cat = get_score_delta_cat(plays=plays,\n",
    "                                      possession_team_versions=possession_team_versions)\n",
    "\n",
    "score_delta_cat.head()"
   ],
   "id": "99929652b3e2310e",
   "outputs": [],
   "execution_count": null
  },
  {
   "metadata": {},
   "cell_type": "markdown",
   "source": "# prediction targets",
   "id": "b2341dd8ff73e5c"
  },
  {
   "metadata": {},
   "cell_type": "code",
   "source": [
    "idx_cols = ['gameId', 'playId']\n",
    "target_cols = idx_cols + [\n",
    "    # playcall decision\n",
    "    'isDropback', 'playAction',\n",
    "\n",
    "    # play results\n",
    "    'passResult', 'passLength', 'passLocationType', 'rushLocationType',\n",
    "    'prePenaltyYardsGained',\n",
    "\n",
    "    # qb movement\n",
    "    'dropbackType', 'dropbackDistance', 'timeToThrow',\n",
    "\n",
    "    # pff features\n",
    "    'pff_runConceptPrimary', 'pff_runConceptSecondary', 'pff_runPassOption',\n",
    "    'pff_passCoverage', 'pff_manZone'\n",
    "]\n",
    "\n",
    "targets = (plays\n",
    "           [target_cols]\n",
    "           .copy()\n",
    "           .set_index(idx_cols)\n",
    "           .sort_index())\n",
    "\n",
    "targets.head(20)"
   ],
   "id": "a701ea46055a02dc",
   "outputs": [],
   "execution_count": null
  },
  {
   "metadata": {},
   "cell_type": "code",
   "source": "targets.shape",
   "id": "93a967f85ab6d513",
   "outputs": [],
   "execution_count": null
  },
  {
   "metadata": {},
   "cell_type": "markdown",
   "source": [
    "## what is a play action _run_?\n",
    "\n",
    "initial guess: qb scrambles. probably _should not_ count as runs since they were not planned runs"
   ],
   "id": "9951e05114fc27f5"
  },
  {
   "metadata": {},
   "cell_type": "code",
   "source": "plays.groupby(['isDropback', 'playAction']).gameId.count()",
   "id": "fab17bc6e1ab33fb",
   "outputs": [],
   "execution_count": null
  },
  {
   "metadata": {},
   "cell_type": "code",
   "source": "plays[plays.playAction & ~plays.isDropback].head(20)",
   "id": "5d747648db8fac4c",
   "outputs": [],
   "execution_count": null
  },
  {
   "metadata": {},
   "cell_type": "code",
   "source": [
    "gameId, playId = 2022091107, 254  # lamar jackson fakes sweep handoff and keeps, definitely a designed run, _debatably_ play action :shrug:\n",
    "gameId, playId = 2022101600, 177  # marcus mariota obvious rpo\n",
    "\n",
    "animate_play(games=games,\n",
    "             tracking_df=tracking,\n",
    "             play_df=plays,\n",
    "             gameId=gameId,\n",
    "             playId=playId)"
   ],
   "id": "d00a1b6da4577112",
   "outputs": [],
   "execution_count": null
  },
  {
   "metadata": {},
   "cell_type": "markdown",
   "source": "# pre-snap features",
   "id": "d257551570fac285"
  },
  {
   "metadata": {},
   "cell_type": "code",
   "source": [
    "idx_cols = ['gameId', 'playId']\n",
    "presnap_feature_cols = idx_cols + [\n",
    "    # game / playcalling context\n",
    "    'quarter', 'down', 'yardsToGo',\n",
    "\n",
    "    # field location\n",
    "    'yardlineNumber', 'absoluteYardlineNumber',\n",
    "\n",
    "    # formation\n",
    "    'offenseFormation', 'receiverAlignment',\n",
    "\n",
    "    # predicted input features\n",
    "    'preSnapHomeTeamWinProbability', 'expectedPoints',\n",
    "\n",
    "    # timing\n",
    "    'gameClock', 'playClockAtSnap',\n",
    "\n",
    "    # keeping this to compute another feature, then dropping\n",
    "    'pff_manZone',\n",
    "\n",
    "    # optional possession team\n",
    "    'possessionTeam',\n",
    "]\n",
    "\n",
    "presnap_features = (plays\n",
    "                    [presnap_feature_cols]\n",
    "                    .copy()\n",
    "                    .set_index(idx_cols)\n",
    "                    .sort_index())\n",
    "\n",
    "# objects that we want to treat as categories\n",
    "presnap_features.receiverAlignment = presnap_features.receiverAlignment.astype('category')\n",
    "\n",
    "# game clock to seconds left in game (have to handle negatives for overtime)\n",
    "def get_elapsed_seconds_in_game(presnap_features: pd.DataFrame) -> pd.Series:\n",
    "    seconds_in_quarter = 15 * 60\n",
    "    ms = presnap_features.gameClock.str.split(':', expand=True)\n",
    "    ms.columns = ['minutes', 'seconds']\n",
    "    ms.minutes = ms.minutes.astype(int)\n",
    "    ms.seconds = ms.seconds.astype(int)\n",
    "    ms.loc[:, 'seconds_left_in_quarter'] = ms.minutes * 60 + ms.seconds\n",
    "    quarters_so_far = (presnap_features.quarter - 1)\n",
    "    seconds_so_far = quarters_so_far * seconds_in_quarter\n",
    "\n",
    "    t = seconds_so_far + seconds_in_quarter - ms.seconds_left_in_quarter\n",
    "\n",
    "    return t\n",
    "\n",
    "presnap_features.loc[:, 'elapsed_time'] = get_elapsed_seconds_in_game(presnap_features=presnap_features)\n",
    "presnap_features.loc[:, 'is_under_2_min'] = (presnap_features.elapsed_time.between(29 * 60, 30 * 60)\n",
    "                                             | presnap_features.elapsed_time.between(59 * 60, 60 * 60))\n",
    "presnap_features.loc[:, 'is_overtime'] = presnap_features.quarter > 4\n",
    "\n",
    "# joining in all home / away features to possession team features\n",
    "presnap_features = presnap_features.join(possession_team_versions)\n",
    "\n",
    "# joining in other derived features\n",
    "presnap_features = presnap_features.join(hash_info, how='left').drop(columns='hv_hash')\n",
    "presnap_features = presnap_features.join(personnel_grouping, how='left')\n",
    "presnap_features = presnap_features.join(plays_w_motion, how='left')\n",
    "presnap_features.fillna({'had_motion': False}, inplace=True)\n",
    "presnap_features.had_motion = presnap_features.had_motion.astype(bool)\n",
    "presnap_features.loc[:, 'had_motion_d_in_zone'] = presnap_features.had_motion & (presnap_features.pff_manZone == 'Zone')\n",
    "presnap_features.drop(columns='pff_manZone', inplace=True)\n",
    "presnap_features = (presnap_features\n",
    "                    .join(starting_qb_change_data[['starter_is_in', 'prev_wk_starter_is_in']].reset_index(0, drop=True).sort_index(),\n",
    "                          how='left'))\n",
    "presnap_features = presnap_features.join(dnd_tendencies, how='left')\n",
    "presnap_features = presnap_features.join(score_delta_cat, how='left')\n",
    "\n",
    "# interaction features\n",
    "presnap_features.loc[:, 'down_x_yardsToGo'] = presnap_features.down * presnap_features.yardsToGo\n",
    "presnap_features.loc[:, 'yards_per_remaining_down'] = presnap_features.yardsToGo / (5 - presnap_features.down)\n",
    "\n",
    "# fixing some nans\n",
    "presnap_features.fillna({'playClockAtSnap': presnap_features.playClockAtSnap.mean(),\n",
    "                         'starter_is_in': False,\n",
    "                         'prev_wk_starter_is_in': False},\n",
    "                        inplace=True)\n",
    "presnap_features.starter_is_in = presnap_features.starter_is_in.astype(bool)\n",
    "presnap_features.prev_wk_starter_is_in = presnap_features.prev_wk_starter_is_in.astype(bool)\n",
    "\n",
    "\n",
    "presnap_features.head(50)"
   ],
   "id": "d8e8fef3cd6c1d20",
   "outputs": [],
   "execution_count": null
  },
  {
   "metadata": {},
   "cell_type": "code",
   "source": "assert presnap_features.shape[0] == plays.shape[0]",
   "id": "4cedd279abef7aba",
   "outputs": [],
   "execution_count": null
  },
  {
   "metadata": {},
   "cell_type": "code",
   "source": "presnap_features.is_under_2_min.value_counts()",
   "id": "d57518f9573747bb",
   "outputs": [],
   "execution_count": null
  },
  {
   "metadata": {},
   "cell_type": "code",
   "source": "presnap_features.is_overtime.value_counts()",
   "id": "f7fa30ead77e7611",
   "outputs": [],
   "execution_count": null
  },
  {
   "metadata": {},
   "cell_type": "markdown",
   "source": [
    "todo\n",
    "\n",
    "+ *probably* nothing should be null\n",
    "+"
   ],
   "id": "864e96631006f3b7"
  },
  {
   "metadata": {},
   "cell_type": "markdown",
   "source": "# modelling",
   "id": "664fab4eebf6d835"
  },
  {
   "metadata": {},
   "cell_type": "markdown",
   "source": "## xgboost, predicting pass vs. run",
   "id": "f1ecbafe95b1dab8"
  },
  {
   "metadata": {},
   "cell_type": "code",
   "source": [
    "X = presnap_features.join(meta[['should_ignore']], how='left')\n",
    "X = X[~X.should_ignore]\n",
    "X.sort_index(inplace=True)"
   ],
   "id": "318ea2225ba75a2b",
   "outputs": [],
   "execution_count": null
  },
  {
   "metadata": {},
   "cell_type": "code",
   "source": "X.dtypes",
   "id": "7ade3a90080b0e9e",
   "outputs": [],
   "execution_count": null
  },
  {
   "metadata": {},
   "cell_type": "code",
   "source": "assert X.isna().sum().sum() == 0, 'one of the columns has null values'",
   "id": "e909f4c01832f5a7",
   "outputs": [],
   "execution_count": null
  },
  {
   "metadata": {},
   "cell_type": "code",
   "source": [
    "y = targets.join(meta[['should_ignore']], how='left')\n",
    "y = y[~y.should_ignore]\n",
    "y.sort_index(inplace=True)\n",
    "y = y.isDropback\n",
    "y.value_counts(normalize=True)"
   ],
   "id": "39b6a17e44c6b383",
   "outputs": [],
   "execution_count": null
  },
  {
   "metadata": {},
   "cell_type": "code",
   "source": "assert X.shape[0] == y.shape[0]",
   "id": "c0b09d1d59c18f80",
   "outputs": [],
   "execution_count": null
  },
  {
   "metadata": {},
   "cell_type": "code",
   "source": [
    "from sklearn.model_selection import train_test_split\n",
    "\n",
    "X_train, X_test, y_train, y_test = train_test_split(X, y,\n",
    "                                                    test_size=0.2,\n",
    "                                                    random_state=1337,\n",
    "                                                    shuffle=True,\n",
    "                                                    stratify=y)\n",
    "\n",
    "print(f\"{X_train.shape = }\")\n",
    "print(f\"{X_test.shape = }\")\n",
    "print(f\"{y_train.shape = }\")\n",
    "print(f\"{y_test.shape = }\")\n",
    "print(f\"\\n{y_train.value_counts(normalize=True)}\")\n",
    "print(f\"\\n{y_test.value_counts(normalize=True)}\")"
   ],
   "id": "279ad2e923fb6dcb",
   "outputs": [],
   "execution_count": null
  },
  {
   "metadata": {},
   "cell_type": "code",
   "source": [
    "import xgboost as xgb\n",
    "\n",
    "xgb_model_features = [\n",
    "    # team categorical? let's at least try it\n",
    "    # 'possessionTeam',\n",
    "\n",
    "    # field position\n",
    "    'down', 'yardsToGo', 'down_x_yardsToGo', 'yards_per_remaining_down',\n",
    "    'absoluteYardlineNumber', 'ball_hash_cat', 'dist_cat',\n",
    "\n",
    "    # game situation\n",
    "    'quarter', 'possession_team_score_delta',\n",
    "    'possession_team_score_delta_cat',\n",
    "    'elapsed_time', 'possession_team_is_home',\n",
    "    'presnap_possession_team_win_probability',\n",
    "    'is_under_2_min', 'is_overtime',\n",
    "\n",
    "    # formation information\n",
    "    'offenseFormation', 'receiverAlignment', 'FB', 'QB', 'pg_cat',\n",
    "    'had_motion', 'had_motion_d_in_zone',\n",
    "\n",
    "    # qb injury / replacement\n",
    "    'starter_is_in', 'prev_wk_starter_is_in',\n",
    "\n",
    "    # team's tendencies in similar past situations\n",
    "    'is_dropback_tendency_100', 'score_delta_tendency_100'\n",
    "]\n",
    "\n",
    "dm_train = xgb.DMatrix(data=X_train[xgb_model_features],\n",
    "                       label=y_train,\n",
    "                       feature_names=xgb_model_features,\n",
    "                       # feature_types=feature_types,\n",
    "                       nthread=-1,\n",
    "                       enable_categorical=True)\n",
    "\n",
    "dm_test = xgb.DMatrix(data=X_test[xgb_model_features],\n",
    "                      label=y_test,\n",
    "                      feature_names=xgb_model_features,\n",
    "                      # feature_types=feature_types,\n",
    "                      nthread=-1,\n",
    "                      enable_categorical=True)"
   ],
   "id": "372531d89f416fbd",
   "outputs": [],
   "execution_count": null
  },
  {
   "metadata": {},
   "cell_type": "code",
   "source": "dm_train.num_col()",
   "id": "5db3f9ed3786b8bc",
   "outputs": [],
   "execution_count": null
  },
  {
   "metadata": {},
   "cell_type": "code",
   "source": "X_test[xgb_model_features].dtypes",
   "id": "1afcc04432ea2480",
   "outputs": [],
   "execution_count": null
  },
  {
   "metadata": {},
   "cell_type": "code",
   "source": "DO_CV = False",
   "id": "909c2ebb63eb5a1e",
   "outputs": [],
   "execution_count": null
  },
  {
   "metadata": {},
   "cell_type": "code",
   "source": [
    "params = {'objective': 'binary:logistic',\n",
    "          'eta': 5e-4,\n",
    "          'max_depth': 60}\n",
    "metrics = ['error', 'auc', 'logloss']\n",
    "\n",
    "if DO_CV:\n",
    "    eval_hist = xgb.cv(params=params,\n",
    "                       dtrain=dm_train,\n",
    "                       num_boost_round=10_000,\n",
    "                       nfold=10,\n",
    "                       metrics=metrics,\n",
    "                       as_pandas=True,\n",
    "                       verbose_eval=100,\n",
    "                       seed=1337)\n",
    "else:\n",
    "    eval_hist = None\n",
    "\n",
    "eval_hist.head(25) if DO_CV else None"
   ],
   "id": "15787efbd4aeeede",
   "outputs": [],
   "execution_count": null
  },
  {
   "metadata": {},
   "cell_type": "code",
   "source": [
    "if DO_CV:\n",
    "    ax = eval_hist.plot(y='train-logloss-mean')\n",
    "    eval_hist.plot(y='test-logloss-mean', ax=ax)"
   ],
   "id": "487c13ab64dd2afd",
   "outputs": [],
   "execution_count": null
  },
  {
   "metadata": {},
   "cell_type": "code",
   "source": [
    "if DO_CV:\n",
    "    ax = eval_hist.plot(y='train-error-mean')\n",
    "    eval_hist.plot(y='test-error-mean', ax=ax)"
   ],
   "id": "120b89dc6e98d3f8",
   "outputs": [],
   "execution_count": null
  },
  {
   "metadata": {},
   "cell_type": "code",
   "source": [
    "if DO_CV:\n",
    "    ax = eval_hist.plot(y='train-auc-mean')\n",
    "    eval_hist.plot(y='test-auc-mean', ax=ax)"
   ],
   "id": "8cb7be5059be66d7",
   "outputs": [],
   "execution_count": null
  },
  {
   "metadata": {},
   "cell_type": "code",
   "source": "eval_hist['test-logloss-mean'].min() if DO_CV else None",
   "id": "26dc328e32466cdf",
   "outputs": [],
   "execution_count": null
  },
  {
   "metadata": {},
   "cell_type": "code",
   "source": "eval_hist.describe() if DO_CV else None",
   "id": "cfc668e579fa20",
   "outputs": [],
   "execution_count": null
  },
  {
   "metadata": {},
   "cell_type": "code",
   "source": [
    "evals_result = {}\n",
    "\n",
    "b = xgb.train(params={**params, 'eval_metric': metrics},\n",
    "              dtrain=dm_train,\n",
    "              num_boost_round=7_500,\n",
    "              evals=[(dm_train, 'train'),\n",
    "                     (dm_test, 'test')],\n",
    "              evals_result=evals_result,\n",
    "              verbose_eval=100,\n",
    "              early_stopping_rounds=500)"
   ],
   "id": "385e786f67784157",
   "outputs": [],
   "execution_count": null
  },
  {
   "metadata": {},
   "cell_type": "code",
   "source": [
    "import seaborn as sns\n",
    "\n",
    "sns.set_theme()"
   ],
   "id": "5dc5e7efec1513a7",
   "outputs": [],
   "execution_count": null
  },
  {
   "metadata": {},
   "cell_type": "code",
   "source": [
    "df_eval_test = pd.DataFrame(evals_result['test'])\n",
    "df_eval_test.loc[:, 'accuracy'] = 1 - df_eval_test.error\n",
    "df_eval_test.loc[:, 'segment'] = 'test'\n",
    "\n",
    "df_eval_train = pd.DataFrame(evals_result['train'])\n",
    "df_eval_train.loc[:, 'accuracy'] = 1 - df_eval_train.error\n",
    "df_eval_train.loc[:, 'segment'] = 'train'\n",
    "\n",
    "df_eval = pd.concat([df_eval_test, df_eval_train]).reset_index().rename(columns={'index': 'x'})"
   ],
   "id": "7dc4f6069a4ecf2c",
   "outputs": [],
   "execution_count": null
  },
  {
   "metadata": {},
   "cell_type": "code",
   "source": [
    "ax = df_eval_test.logloss.plot()\n",
    "ax.set_title('log-loss on test data')"
   ],
   "id": "56beda145499fb77",
   "outputs": [],
   "execution_count": null
  },
  {
   "metadata": {},
   "cell_type": "code",
   "source": [
    "ax = df_eval_test.accuracy.plot()\n",
    "ax.set_title('accuracy on test data')"
   ],
   "id": "ace88f0647c00d5f",
   "outputs": [],
   "execution_count": null
  },
  {
   "metadata": {},
   "cell_type": "code",
   "source": [
    "max_accuracy = df_eval_test.accuracy.max()\n",
    "print(f\"{max_accuracy = :.2%}\")"
   ],
   "id": "896fe12c05a24fad",
   "outputs": [],
   "execution_count": null
  },
  {
   "metadata": {},
   "cell_type": "code",
   "source": [
    "ax = df_eval_test.auc.plot()\n",
    "ax.set_title('AUC on test data')"
   ],
   "id": "5d84a01902ce4919",
   "outputs": [],
   "execution_count": null
  },
  {
   "metadata": {},
   "cell_type": "code",
   "source": [
    "ax = xgb.plot_importance(b)\n",
    "fig = ax.figure\n",
    "fig.set_size_inches(10, 10)"
   ],
   "id": "c80f618a03ace6d0",
   "outputs": [],
   "execution_count": null
  },
  {
   "metadata": {},
   "cell_type": "code",
   "source": "xgb_model_features",
   "id": "6c26494bfeaa7fbf",
   "outputs": [],
   "execution_count": null
  },
  {
   "metadata": {},
   "cell_type": "markdown",
   "source": "# baseline: just pick the most common result of the last 10 / 20 plays",
   "id": "c1661d33ab4822c2"
  },
  {
   "metadata": {},
   "cell_type": "code",
   "source": [
    "df = (pd.DataFrame({'possessionTeam': presnap_features.possessionTeam,\n",
    "                    'isDropback': targets.isDropback})\n",
    "      .reset_index()\n",
    "      .sort_values(by=['possessionTeam', 'gameId', 'playId']))\n",
    "df.head(10)"
   ],
   "id": "da6ec38c65d6430f",
   "outputs": [],
   "execution_count": null
  },
  {
   "metadata": {},
   "cell_type": "code",
   "source": [
    "from scipy.stats import mode\n",
    "\n",
    "n_window = 10  # 0.577\n",
    "n_window = 20  # 0.587\n",
    "n_window = 30  # 0.592\n",
    "n_window = 40  # 0.595\n",
    "n_window = 100  # 0.598\n",
    "n_window = 1_000  # 0.602\n",
    "n_window = 2_000  # 0.602\n",
    "\n",
    "df.loc[:, 'most_common_playcall_last_10'] = (\n",
    "    df\n",
    "    .groupby('possessionTeam', observed=False)\n",
    "    .rolling(window=n_window, min_periods=1, closed='left')\n",
    "    .isDropback\n",
    "    .apply(lambda x: mode(x)[0])\n",
    "    .reset_index(level=0)\n",
    "    .isDropback\n",
    ")\n",
    "\n",
    "z = df.dropna()\n",
    "\n",
    "(z.isDropback == z.most_common_playcall_last_10).mean()"
   ],
   "id": "7f1fee7f3f84ea9b",
   "outputs": [],
   "execution_count": null
  },
  {
   "metadata": {},
   "cell_type": "code",
   "source": "df.head(100)",
   "id": "2476cae7516d6b9f",
   "outputs": [],
   "execution_count": null
  },
  {
   "metadata": {},
   "cell_type": "markdown",
   "source": "so what is the accuracy of this predictor method?",
   "id": "e428baef9e073bc6"
  },
  {
   "metadata": {},
   "cell_type": "code",
   "source": "",
   "id": "327049042f312f59",
   "outputs": [],
   "execution_count": null
  },
  {
   "metadata": {},
   "cell_type": "code",
   "source": "presnap_features[['possessionTeam']]",
   "id": "ac95beb01256be8d",
   "outputs": [],
   "execution_count": null
  },
  {
   "metadata": {},
   "cell_type": "code",
   "source": "targets[['isDropback']]",
   "id": "10e8eacaed8f60f5",
   "outputs": [],
   "execution_count": null
  },
  {
   "metadata": {},
   "cell_type": "markdown",
   "source": "# feature / target relationships",
   "id": "2bcde4d3ce9c12cd"
  },
  {
   "metadata": {},
   "cell_type": "code",
   "source": [
    "z = presnap_features[['elapsed_time']].join(targets[['isDropback']])\n",
    "z.loc[:, 'et_binned'] = (z.elapsed_time / 60).astype(int)\n",
    "z.groupby('et_binned').isDropback.mean().plot()"
   ],
   "id": "691d1ea65a3aa0aa",
   "outputs": [],
   "execution_count": null
  },
  {
   "metadata": {},
   "cell_type": "code",
   "source": [
    "z = presnap_features[['is_under_2_min', 'is_overtime']].join(targets[['isDropback']])\n",
    "z.groupby('is_under_2_min').isDropback.mean().plot()"
   ],
   "id": "4eb831c9debf5e43",
   "outputs": [],
   "execution_count": null
  },
  {
   "metadata": {},
   "cell_type": "markdown",
   "source": [
    "# todo\n",
    "\n",
    "- [ ] filter out qb kneels\n",
    "- [x] verify that isDropback is synonymous with pass (e.g. are there any passes w/o dropback, like a quick pass, or one where they are in shotgun and no drop is needed?)~\n",
    "- [ ] features to build\n",
    "    - [x] motion w/ defender following (signal to O that D is in man)\n",
    "    - [x] personnel grouping\n",
    "    - [ ] targeted wr\n",
    "    - [ ] qb head position checks (where do they look, etc)\n",
    "    - [ ] defensive personnel grouping\n",
    "    - [ ] defensive alignment\n",
    "    - [x] side of field\n",
    "    - [x] strength side\n",
    "    - [ ] QB handedness (can get from PFR, but need to scrape (and upload)\n",
    "    - [ ] interactions between strong side, field side, QB handedness, formation strength side\n",
    "    - [ ] injury? top players coming off (e.g. WR1 off field)\n",
    "- [ ] model to predict how formation / motion decisions significantly affect targetting decisions (use player_plays, pymc)"
   ],
   "id": "18261ed2228524e3"
  },
  {
   "metadata": {},
   "cell_type": "code",
   "source": "",
   "id": "c5b214fa9e5120bb",
   "outputs": [],
   "execution_count": null
  }
 ],
 "metadata": {
  "kernelspec": {
   "display_name": "Python 3",
   "language": "python",
   "name": "python3"
  },
  "language_info": {
   "codemirror_mode": {
    "name": "ipython",
    "version": 2
   },
   "file_extension": ".py",
   "mimetype": "text/x-python",
   "name": "python",
   "nbconvert_exporter": "python",
   "pygments_lexer": "ipython2",
   "version": "2.7.6"
  }
 },
 "nbformat": 4,
 "nbformat_minor": 5
}
